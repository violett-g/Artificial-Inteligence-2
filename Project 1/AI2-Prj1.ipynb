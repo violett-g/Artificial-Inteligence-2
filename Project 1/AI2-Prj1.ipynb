{
  "nbformat": 4,
  "nbformat_minor": 0,
  "metadata": {
    "colab": {
      "name": "Untitled2.ipynb",
      "provenance": []
    },
    "kernelspec": {
      "name": "python3",
      "display_name": "Python 3"
    },
    "language_info": {
      "name": "python"
    }
  },
  "cells": [
    {
      "cell_type": "markdown",
      "metadata": {
        "id": "jBKajQ_gjruX"
      },
      "source": [
        "\n",
        "\n",
        "```\n",
        "# This is formatted as code\n",
        "```\n",
        "\n",
        "#AI2 PROJECT-1\n"
      ]
    },
    {
      "cell_type": "markdown",
      "metadata": {
        "id": "zSdEvknH_Qvj"
      },
      "source": [
        "#LOADING DATA"
      ]
    },
    {
      "cell_type": "code",
      "metadata": {
        "id": "JfjMeTFIjlHo"
      },
      "source": [
        "import pandas as pd"
      ],
      "execution_count": 1,
      "outputs": []
    },
    {
      "cell_type": "code",
      "metadata": {
        "id": "gs1vRu3Rjy1i"
      },
      "source": [
        "train_set = pd.read_csv(\"vaccine_train_set.csv\") #read train data set\n",
        "train_tweet = train_set['tweet']\n",
        "train_label = train_set['label']"
      ],
      "execution_count": 2,
      "outputs": []
    },
    {
      "cell_type": "code",
      "metadata": {
        "id": "mpZRLve27Oik"
      },
      "source": [
        "validation_set = pd.read_csv(\"vaccine_validation_set.csv\") #read validation data set\n",
        "validation_tweet = validation_set['tweet']\n",
        "validation_label = validation_set['label']"
      ],
      "execution_count": 3,
      "outputs": []
    },
    {
      "cell_type": "markdown",
      "metadata": {
        "id": "wXkDt96R_ZK4"
      },
      "source": [
        "Data exploration"
      ]
    },
    {
      "cell_type": "code",
      "metadata": {
        "colab": {
          "base_uri": "https://localhost:8080/",
          "height": 581
        },
        "id": "4tnJdLhegUB7",
        "outputId": "035f003d-a595-401b-ca63-3b4893ed4139"
      },
      "source": [
        "import seaborn as sns\n",
        "sns.set(style=\"whitegrid\", color_codes=True)\n",
        "sns.set(rc={'figure.figsize':(11.7,8.27)})\n",
        "sns.countplot('label',data=train_set,hue = 'label')\n",
        "sns.despine(offset=10, trim=True)"
      ],
      "execution_count": 4,
      "outputs": [
        {
          "output_type": "stream",
          "name": "stderr",
          "text": [
            "/usr/local/lib/python3.7/dist-packages/seaborn/_decorators.py:43: FutureWarning: Pass the following variable as a keyword arg: x. From version 0.12, the only valid positional argument will be `data`, and passing other arguments without an explicit keyword will result in an error or misinterpretation.\n",
            "  FutureWarning\n"
          ]
        },
        {
          "output_type": "display_data",
          "data": {
            "image/png": "[encoded data removed]",
            "text/plain": [
              "<Figure size 842.4x595.44 with 1 Axes>"
            ]
          },
          "metadata": {}
        }
      ]
    },
    {
      "cell_type": "code",
      "metadata": {
        "colab": {
          "base_uri": "https://localhost:8080/",
          "height": 419
        },
        "id": "PVzlNhVRCrKX",
        "outputId": "0111c50d-18dd-4b60-c7f7-8faf36d46f39"
      },
      "source": [
        "train_set"
      ],
      "execution_count": 5,
      "outputs": [
        {
          "output_type": "execute_result",
          "data": {
            "text/html": [
              "<div>\n",
              "<style scoped>\n",
              "    .dataframe tbody tr th:only-of-type {\n",
              "        vertical-align: middle;\n",
              "    }\n",
              "\n",
              "    .dataframe tbody tr th {\n",
              "        vertical-align: top;\n",
              "    }\n",
              "\n",
              "    .dataframe thead th {\n",
              "        text-align: right;\n",
              "    }\n",
              "</style>\n",
              "<table border=\"1\" class=\"dataframe\">\n",
              "  <thead>\n",
              "    <tr style=\"text-align: right;\">\n",
              "      <th></th>\n",
              "      <th>Unnamed: 0</th>\n",
              "      <th>tweet</th>\n",
              "      <th>label</th>\n",
              "    </tr>\n",
              "  </thead>\n",
              "  <tbody>\n",
              "    <tr>\n",
              "      <th>0</th>\n",
              "      <td>0</td>\n",
              "      <td>Sip N Shop Come thru right now #Marjais #Popul...</td>\n",
              "      <td>0</td>\n",
              "    </tr>\n",
              "    <tr>\n",
              "      <th>1</th>\n",
              "      <td>1</td>\n",
              "      <td>I don't know about you but My family and I wil...</td>\n",
              "      <td>1</td>\n",
              "    </tr>\n",
              "    <tr>\n",
              "      <th>2</th>\n",
              "      <td>2</td>\n",
              "      <td>@MSignorile Immunizations should be mandatory....</td>\n",
              "      <td>2</td>\n",
              "    </tr>\n",
              "    <tr>\n",
              "      <th>3</th>\n",
              "      <td>3</td>\n",
              "      <td>President Obama spoke in favor of vaccination ...</td>\n",
              "      <td>0</td>\n",
              "    </tr>\n",
              "    <tr>\n",
              "      <th>4</th>\n",
              "      <td>4</td>\n",
              "      <td>\"@myfoxla: Arizona monitoring hundreds for mea...</td>\n",
              "      <td>0</td>\n",
              "    </tr>\n",
              "    <tr>\n",
              "      <th>...</th>\n",
              "      <td>...</td>\n",
              "      <td>...</td>\n",
              "      <td>...</td>\n",
              "    </tr>\n",
              "    <tr>\n",
              "      <th>15971</th>\n",
              "      <td>15971</td>\n",
              "      <td>@Salon if u believe the anti-vax nutcases caus...</td>\n",
              "      <td>1</td>\n",
              "    </tr>\n",
              "    <tr>\n",
              "      <th>15972</th>\n",
              "      <td>15972</td>\n",
              "      <td>How do you feel about parents who don't #vacci...</td>\n",
              "      <td>0</td>\n",
              "    </tr>\n",
              "    <tr>\n",
              "      <th>15973</th>\n",
              "      <td>15973</td>\n",
              "      <td>70 Preschoolers Tested for Measles in Simi Val...</td>\n",
              "      <td>0</td>\n",
              "    </tr>\n",
              "    <tr>\n",
              "      <th>15974</th>\n",
              "      <td>15974</td>\n",
              "      <td>Finance Minister: Budget offers room to procur...</td>\n",
              "      <td>0</td>\n",
              "    </tr>\n",
              "    <tr>\n",
              "      <th>15975</th>\n",
              "      <td>15975</td>\n",
              "      <td>Are you up to date on vaccines? Take CDC’s vac...</td>\n",
              "      <td>2</td>\n",
              "    </tr>\n",
              "  </tbody>\n",
              "</table>\n",
              "<p>15976 rows × 3 columns</p>\n",
              "</div>"
            ],
            "text/plain": [
              "       Unnamed: 0                                              tweet  label\n",
              "0               0  Sip N Shop Come thru right now #Marjais #Popul...      0\n",
              "1               1  I don't know about you but My family and I wil...      1\n",
              "2               2  @MSignorile Immunizations should be mandatory....      2\n",
              "3               3  President Obama spoke in favor of vaccination ...      0\n",
              "4               4  \"@myfoxla: Arizona monitoring hundreds for mea...      0\n",
              "...           ...                                                ...    ...\n",
              "15971       15971  @Salon if u believe the anti-vax nutcases caus...      1\n",
              "15972       15972  How do you feel about parents who don't #vacci...      0\n",
              "15973       15973  70 Preschoolers Tested for Measles in Simi Val...      0\n",
              "15974       15974  Finance Minister: Budget offers room to procur...      0\n",
              "15975       15975  Are you up to date on vaccines? Take CDC’s vac...      2\n",
              "\n",
              "[15976 rows x 3 columns]"
            ]
          },
          "metadata": {},
          "execution_count": 5
        }
      ]
    },
    {
      "cell_type": "markdown",
      "metadata": {
        "id": "YQkwh4Gx1ZzB"
      },
      "source": [
        "# PREPROCESSING"
      ]
    },
    {
      "cell_type": "code",
      "metadata": {
        "colab": {
          "base_uri": "https://localhost:8080/"
        },
        "id": "lDm8-8Nreo6a",
        "outputId": "d73c3876-6195-45c7-dd2e-8681385b3097"
      },
      "source": [
        "import numpy as np\n",
        "import re\n",
        "\n",
        "import nltk\n",
        "from nltk.corpus import stopwords\n",
        "nltk.download('stopwords')\n",
        "stopwords = stopwords.words('english')\n",
        " \n",
        "def clean_tweet(tweet):\n",
        "    if type(tweet) == np.float:\n",
        "        return \"\"\n",
        "    t = tweet.lower() #convert to lower case\n",
        "    t = re.sub(\"'\", \"\", t) # to avoid removing contractions in english\n",
        "    t = re.sub(\"@[A-Za-z0-9_]+\",\"\", t) #removes tags\n",
        "    t = re.sub(\"#[A-Za-z0-9_]+\",\"\", t) #removes hashtags\n",
        "    t = re.sub(r'http\\S+', '', t) #remove links\n",
        "    t = re.sub('[()!?]', ' ', t)  #remove punctuation\n",
        "    t = re.sub('\\[.*?\\]',' ', t)\n",
        "    t = re.sub(\"[^a-z0-9]\",\" \", t) #remove numbers\n",
        "    t = t.split() #splits the tweet to individual words\n",
        "    t = [w for w in t if not w in stopwords] #remove stopwords\n",
        "    t = \" \".join(word for word in t)\n",
        "    return t"
      ],
      "execution_count": 6,
      "outputs": [
        {
          "output_type": "stream",
          "name": "stdout",
          "text": [
            "[nltk_data] Downloading package stopwords to /root/nltk_data...\n",
            "[nltk_data]   Unzipping corpora/stopwords.zip.\n"
          ]
        }
      ]
    },
    {
      "cell_type": "code",
      "metadata": {
        "id": "1xwHQHqzerVC"
      },
      "source": [
        "filtered_train_tweets = [clean_tweet(tw) for tw in train_tweet]"
      ],
      "execution_count": 7,
      "outputs": []
    },
    {
      "cell_type": "markdown",
      "metadata": {
        "id": "hTM09GIDw6mF"
      },
      "source": [
        "# VECTORIZATION"
      ]
    },
    {
      "cell_type": "markdown",
      "metadata": {
        "id": "vwAT3jbhwpLt"
      },
      "source": [
        "BOW"
      ]
    },
    {
      "cell_type": "code",
      "metadata": {
        "id": "bgEm2EjB9_Ab"
      },
      "source": [
        "from sklearn import *\n",
        "from sklearn.feature_extraction.text import CountVectorizer\n",
        "bow_vectorizer = CountVectorizer(ngram_range=(1,2), min_df=0.007)\n",
        "bow_trainset = bow_vectorizer.fit_transform(filtered_train_tweets) #apply BOW on training tweets\n",
        "bow_validationset = bow_vectorizer.transform(validation_tweet) #apply BOW on validation tweets"
      ],
      "execution_count": 8,
      "outputs": []
    },
    {
      "cell_type": "markdown",
      "metadata": {
        "id": "hEjnGz7nxLV0"
      },
      "source": [
        "TFIDF"
      ]
    },
    {
      "cell_type": "code",
      "metadata": {
        "id": "0-o1VeHmj5GH"
      },
      "source": [
        "from sklearn.feature_extraction.text import TfidfVectorizer\n",
        "tfidf_vectorizer = TfidfVectorizer(ngram_range=(1,2), min_df=0.007) \n",
        "tfidf_trainset = tfidf_vectorizer.fit_transform(filtered_train_tweets)\n",
        "tfidf_validationset = tfidf_vectorizer.transform(validation_tweet)"
      ],
      "execution_count": null,
      "outputs": []
    },
    {
      "cell_type": "markdown",
      "metadata": {
        "id": "yXdexGBdxo22"
      },
      "source": [
        "# TRAINING & LEARNING CURVES"
      ]
    },
    {
      "cell_type": "markdown",
      "metadata": {
        "id": "vS6U5Vke_x5h"
      },
      "source": [
        "Defining the model"
      ]
    },
    {
      "cell_type": "code",
      "metadata": {
        "id": "WcZJO0pKxilh"
      },
      "source": [
        "from sklearn.linear_model import LogisticRegression\n",
        "model = LogisticRegression(max_iter=1000, C=0.06) #define model"
      ],
      "execution_count": 9,
      "outputs": []
    },
    {
      "cell_type": "code",
      "metadata": {
        "colab": {
          "base_uri": "https://localhost:8080/"
        },
        "id": "Gr8oPicrCNQy",
        "outputId": "b3b6b923-b7be-4df5-9d2a-8550bee98048"
      },
      "source": [
        "\n"
      ],
      "execution_count": 22,
      "outputs": [
        {
          "output_type": "execute_result",
          "data": {
            "text/plain": [
              "15976"
            ]
          },
          "metadata": {},
          "execution_count": 22
        }
      ]
    },
    {
      "cell_type": "markdown",
      "metadata": {
        "id": "Jl2_cjQz_4PS"
      },
      "source": [
        "Ploting leraning curves"
      ]
    },
    {
      "cell_type": "code",
      "metadata": {
        "colab": {
          "base_uri": "https://localhost:8080/",
          "height": 538
        },
        "id": "Y3Oqn-wJbE1m",
        "outputId": "21b6e77d-b18b-429f-fddc-6cfffd9e1331"
      },
      "source": [
        "from sklearn.metrics import f1_score\n",
        "import matplotlib as plt\n",
        "from matplotlib import pyplot\n",
        "\n",
        "size=bow_trainset.shape[0]\n",
        "x = range(1, 10, 1)\n",
        "scores_train = [] #array to store the scores of training data for diferent train data sizes\n",
        "scores_validation = [] #array to store the scores of validation data for diferent train data sizes\n",
        "size_train = [] #utility array for x axis \n",
        "train_size = 1000\n",
        "#train and score measuring for diferent sizes of train data\n",
        "\n",
        "for i in x:\n",
        "  train_size = int(train_size + size*0.1)\n",
        "  # train_size = i*1000\n",
        "  size_train.append(train_size)\n",
        "\n",
        "  model = model.fit(X=bow_trainset[:train_size], y=train_label[:train_size])\n",
        "  prediction_validation = model.predict(bow_validationset)\n",
        "\n",
        "  prediction_train = model.predict(bow_trainset)\n",
        "\n",
        "  scores_validation.append(f1_score(validation_label, prediction_validation, average='micro'))\n",
        "  scores_train.append(f1_score(train_label, prediction_train, average='micro'))\n",
        "\n",
        "#plot\n",
        "pyplot.ylim([0.5, 1])\n",
        "pyplot.xlabel('train size')\n",
        "pyplot.ylabel('F1 score')\n",
        "pyplot.plot(size_train,scores_train, label='train')\n",
        "pyplot.plot(size_train,scores_validation, label= 'validation')\n",
        "pyplot.legend()"
      ],
      "execution_count": 31,
      "outputs": [
        {
          "output_type": "execute_result",
          "data": {
            "text/plain": [
              "<matplotlib.legend.Legend at 0x7f699d311fd0>"
            ]
          },
          "metadata": {},
          "execution_count": 31
        },
        {
          "output_type": "display_data",
          "data": {
            "image/png": "[encoded data removed]",
            "text/plain": [
              "<Figure size 842.4x595.44 with 1 Axes>"
            ]
          },
          "metadata": {}
        }
      ]
    },
    {
      "cell_type": "markdown",
      "metadata": {
        "id": "jjonixJ7d7RJ"
      },
      "source": [
        "#TRAINING\n",
        "with the parameters that worked best after experimenting"
      ]
    },
    {
      "cell_type": "code",
      "metadata": {
        "id": "2OnxYjguWOgu"
      },
      "source": [
        "model = model.fit(X=bow_trainset, y=train_label)\n",
        "prediction = model.predict(bow_validationset)"
      ],
      "execution_count": 35,
      "outputs": []
    },
    {
      "cell_type": "markdown",
      "metadata": {
        "id": "VWG0T6TLd_yz"
      },
      "source": [
        "#STATISTICS"
      ]
    },
    {
      "cell_type": "code",
      "metadata": {
        "colab": {
          "base_uri": "https://localhost:8080/"
        },
        "id": "5N0qt0Dm1XEI",
        "outputId": "79f01f5c-841a-4bf0-d5eb-8375ff1032f7"
      },
      "source": [
        "from sklearn.metrics import precision_score\n",
        "from sklearn.metrics import recall_score\n",
        "from sklearn.metrics import f1_score\n",
        "\n",
        "print(\"PRECISSION SCORE=\",precision_score(validation_label, prediction, average='weighted'))\n",
        "print(\"RECALL SCORE=\",recall_score(validation_label, prediction,average='weighted'))\n",
        "print(\"F1 SCORE\",f1_score(validation_label, prediction, average='weighted'))\n"
      ],
      "execution_count": 36,
      "outputs": [
        {
          "output_type": "stream",
          "name": "stdout",
          "text": [
            "PRECISSION SCORE= 0.6699277242337641\n",
            "RECALL SCORE= 0.6792287467134093\n",
            "F1 SCORE 0.6596114567095165\n"
          ]
        }
      ]
    },
    {
      "cell_type": "code",
      "metadata": {
        "colab": {
          "base_uri": "https://localhost:8080/",
          "height": 500
        },
        "id": "leQTAq30zh_a",
        "outputId": "e5bfa79b-aaf4-4dd6-c692-8ea00d0133d0"
      },
      "source": [
        "from sklearn.metrics import confusion_matrix\n",
        "import numpy as np; np.random.seed(0)\n",
        "import seaborn as sns; sns.set_theme()\n",
        "results = confusion_matrix(validation_label, prediction)\n",
        "ax = sns.heatmap(results)"
      ],
      "execution_count": 38,
      "outputs": [
        {
          "output_type": "display_data",
          "data": {
            "image/png": "[encoded data removed]",
            "text/plain": [
              "<Figure size 842.4x595.44 with 2 Axes>"
            ]
          },
          "metadata": {}
        }
      ]
    }
  ]
}