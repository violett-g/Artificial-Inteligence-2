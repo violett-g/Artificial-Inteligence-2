{
  "cells": [
    {
      "cell_type": "code",
      "execution_count": 168,
      "metadata": {
        "colab": {
          "base_uri": "https://localhost:8080/"
        },
        "id": "522BS20s_yP7",
        "outputId": "b2fd1708-01e2-440c-d2d8-ec89600b29eb"
      },
      "outputs": [
        {
          "output_type": "execute_result",
          "data": {
            "text/plain": [
              "<torch._C.Generator at 0x7fbc7955c470>"
            ]
          },
          "metadata": {},
          "execution_count": 168
        }
      ],
      "source": [
        "import torch\n",
        "import torchvision\n",
        "import torch.nn as nn\n",
        "from torch.utils.data import Dataset, DataLoader\n",
        "import matplotlib.pyplot as plt\n",
        "import pandas as pd\n",
        "import numpy\n",
        "import math\n",
        "\n",
        "import torch\n",
        "# torch.manual_seed(100)"
      ]
    },
    {
      "cell_type": "code",
      "execution_count": 129,
      "metadata": {
        "id": "otO210lq_6J7"
      },
      "outputs": [],
      "source": [
        "train_set = pd.read_csv(\"vaccine_train_set.csv\") #read train data set\n",
        "copy_train = pd. DataFrame(train_set)\n",
        "train_tweet = train_set['tweet']\n",
        "train_label = train_set['label']\n",
        "\n",
        "validation_set = pd.read_csv(\"vaccine_validation_set.csv\") #read validation data set\n",
        "copy_validation = pd. DataFrame(train_set)\n",
        "validation_tweet = validation_set['tweet']\n",
        "validation_label = validation_set['label']\n"
      ]
    },
    {
      "cell_type": "markdown",
      "metadata": {
        "id": "BOv6GWSvAO1e"
      },
      "source": [
        "#PREPROCESSING"
      ]
    },
    {
      "cell_type": "code",
      "execution_count": 130,
      "metadata": {
        "colab": {
          "base_uri": "https://localhost:8080/"
        },
        "id": "1_mts9Me_6Rk",
        "outputId": "715b9f1c-90f7-40c0-a539-d236b553eae0"
      },
      "outputs": [
        {
          "output_type": "stream",
          "name": "stdout",
          "text": [
            "[nltk_data] Downloading package stopwords to /root/nltk_data...\n",
            "[nltk_data]   Package stopwords is already up-to-date!\n"
          ]
        }
      ],
      "source": [
        "import numpy as np\n",
        "import re\n",
        "\n",
        "import nltk\n",
        "from nltk.corpus import stopwords\n",
        "nltk.download('stopwords')\n",
        "stopwords = stopwords.words('english')\n",
        " \n",
        "def clean_tweet(tweet):\n",
        "    if type(tweet) == np.float:\n",
        "        return \"\"\n",
        "    t = tweet.lower() #convert to lower case\n",
        "    t = re.sub(\"'\", \"\", t) # to avoid removing contractions in english\n",
        "    t = re.sub(\"@[A-Za-z0-9_]+\",\"\", t) #removes tags\n",
        "    t = re.sub(\"#[A-Za-z0-9_]+\",\"\", t) #removes hashtags\n",
        "    t = re.sub(r'http\\S+', '', t) #remove links\n",
        "    t = re.sub('[()!?]', ' ', t)  #remove punctuation\n",
        "    # t = re.sub('\\[.*?\\]',' ', t)\n",
        "    t = re.sub(\"[^a-z0-9]\",\" \", t) #remove numbers\n",
        "    t = t.split() #splits the tweet to individual words\n",
        "    # t = [w for w in t if not w in stopwords] #remove stopwords\n",
        "    t = \" \".join(word for word in t)\n",
        "    return t"
      ]
    },
    {
      "cell_type": "code",
      "execution_count": null,
      "metadata": {
        "id": "cWriSxIHNOPo"
      },
      "outputs": [],
      "source": [
        "# train_set['tweet'] = train_set['tweet'].apply(lambda tw: clean_tweet(tw)) #clean tweets\n",
        "# validation_set['tweet'] = validation_set['tweet'].apply(lambda tw: clean_tweet(tw)) #clean tweets"
      ]
    },
    {
      "cell_type": "code",
      "execution_count": null,
      "metadata": {
        "id": "OkbmL2kiY5XE"
      },
      "outputs": [],
      "source": [
        "# rain_set = train_set.drop(train_set[train_set['tweet'].map(lambda x: str(x)=='' )].index)\n",
        "# validation_set = validation_set.drop(validation_set[validation_set['tweet'].map(lambda x: str(x)=='' )].index)t"
      ]
    },
    {
      "cell_type": "code",
      "execution_count": null,
      "metadata": {
        "id": "OQcqKJV-QrzP"
      },
      "outputs": [],
      "source": [
        "# # train_set['tweet'].filter(lambda x: len(x) > 0).count()\n",
        "# filtered_train_tweets = [clean_tweet(tw) for tw in train_tweet]\n",
        "# filtered_validation_tweets = [clean_tweet(tw) for tw in validation_tweet]"
      ]
    },
    {
      "cell_type": "markdown",
      "metadata": {
        "id": "7F5weeLX-8Re"
      },
      "source": [
        "#**MODEL 1**"
      ]
    },
    {
      "cell_type": "markdown",
      "metadata": {
        "id": "VIHEXwy8Ak80"
      },
      "source": [
        "#**VECTORIZATION**"
      ]
    },
    {
      "cell_type": "markdown",
      "metadata": {
        "id": "eKjEPL6IlcYo"
      },
      "source": [
        "#GloVe"
      ]
    },
    {
      "cell_type": "code",
      "execution_count": 4,
      "metadata": {
        "colab": {
          "base_uri": "https://localhost:8080/"
        },
        "id": "lUV7EoQZAkY8",
        "outputId": "46e5fd2e-8cb6-4810-bdb2-b524809a31b0"
      },
      "outputs": [
        {
          "output_type": "stream",
          "name": "stdout",
          "text": [
            "--2021-12-23 07:36:14--  https://nlp.stanford.edu/data/glove.6B.zip\n",
            "Resolving nlp.stanford.edu (nlp.stanford.edu)... 171.64.67.140\n",
            "Connecting to nlp.stanford.edu (nlp.stanford.edu)|171.64.67.140|:443... connected.\n",
            "HTTP request sent, awaiting response... 301 Moved Permanently\n",
            "Location: http://downloads.cs.stanford.edu/nlp/data/glove.6B.zip [following]\n",
            "--2021-12-23 07:36:14--  http://downloads.cs.stanford.edu/nlp/data/glove.6B.zip\n",
            "Resolving downloads.cs.stanford.edu (downloads.cs.stanford.edu)... 171.64.64.22\n",
            "Connecting to downloads.cs.stanford.edu (downloads.cs.stanford.edu)|171.64.64.22|:80... connected.\n",
            "HTTP request sent, awaiting response... 200 OK\n",
            "Length: 862182613 (822M) [application/zip]\n",
            "Saving to: ‘glove.6B.zip’\n",
            "\n",
            "glove.6B.zip        100%[===================>] 822.24M  5.10MB/s    in 2m 40s  \n",
            "\n",
            "2021-12-23 07:38:54 (5.15 MB/s) - ‘glove.6B.zip’ saved [862182613/862182613]\n",
            "\n",
            "Archive:  glove.6B.zip\n",
            "  inflating: glove.6B.50d.txt        \n",
            "  inflating: glove.6B.100d.txt       \n",
            "  inflating: glove.6B.200d.txt       \n",
            "  inflating: glove.6B.300d.txt       \n"
          ]
        }
      ],
      "source": [
        "#get Glove files\n",
        "!wget https://nlp.stanford.edu/data/glove.6B.zip\n",
        "!unzip glove.6B.zip"
      ]
    },
    {
      "cell_type": "markdown",
      "metadata": {
        "id": "pG9qm9cnAuTR"
      },
      "source": [
        "**Parse the vocabulary and embeddings**\n"
      ]
    },
    {
      "cell_type": "code",
      "execution_count": 827,
      "metadata": {
        "id": "vHZfeIrKArsP"
      },
      "outputs": [],
      "source": [
        "vocabulary,embeddings = [],[]\n",
        "with open('glove.6B.50d.txt','rt') as glove_file:\n",
        "# with open('glove.twitter.27B.25d.txt','rt') as glove_file:\n",
        "    line = glove_file.read().strip().split('\\n') #each tweet\n",
        "for i in range(len(line)):\n",
        "    i_word = line[i].split(' ')[0] #word\n",
        "    i_embeddings = [float(val) for val in line[i].split(' ')[1:]] #wrod embandings\n",
        "    vocabulary.append(i_word)\n",
        "    embeddings.append(i_embeddings)\n",
        "# Convert the vocabulary and the embeddings into numpy arrays\n",
        "vocabulary_npa = np.array(vocabulary)\n",
        "embeddings_npa = np.array(embeddings)"
      ]
    },
    {
      "cell_type": "markdown",
      "metadata": {
        "id": "wUn1i_jvBK4U"
      },
      "source": [
        "**Add unknown tokens to the vocab and embeddings arrays**\n",
        "\n",
        "In case there is a word in our train set that do not exsists in the GloVe vocabulary, that word would be corresponded to an unknown word we added in the vocabulary and the mebendding of this word is retrived from the mean of all existing embeddings.\n"
      ]
    },
    {
      "cell_type": "code",
      "execution_count": 828,
      "metadata": {
        "id": "TQUaLPzxBIdS"
      },
      "outputs": [],
      "source": [
        "vocabulary_npa = np.insert(vocabulary_npa, 1, '<unknown>')\n",
        "unknown_emb_npa = np.mean(embeddings_npa,axis=0,keepdims=True)    #embedding for '<unknown>' token.\n",
        "embeddings_npa = np.vstack((unknown_emb_npa,embeddings_npa)) #insert embeddings for unknwon token at top of embeddings_npa."
      ]
    },
    {
      "cell_type": "code",
      "execution_count": 829,
      "metadata": {
        "id": "tYrT7_KpBPCq"
      },
      "outputs": [],
      "source": [
        "#convert embeddings to a dictionary\n",
        "dic = {}\n",
        "for i in range(0,np.size(vocabulary_npa)):\n",
        "  dic[vocabulary_npa[i]] = i"
      ]
    },
    {
      "cell_type": "markdown",
      "metadata": {
        "id": "La0AYdRHBZ8Q"
      },
      "source": [
        "**Vectorize** **dataset**\n",
        "\n",
        "Define a class that will be used to vectorise train and validation dataset using Glove."
      ]
    },
    {
      "cell_type": "code",
      "execution_count": 849,
      "metadata": {
        "id": "hGZmR0fjBdEC"
      },
      "outputs": [],
      "source": [
        "def flatten(t):\n",
        "    t = t.reshape(1, -1)\n",
        "    t = t.squeeze()\n",
        "    return t\n",
        "\n",
        "class tweetsDataset(Dataset):\n",
        "  def __init__(self,train_set,filtered_train_tweets,vocabulary_npa,embeddings_npa):\n",
        "\n",
        "    #Separate data in features and targets tensors\n",
        "    # x = torch.tensor(index_pairs, dtype=torch.float)\n",
        "    tweets = [x.split() for x in filtered_train_tweets] #tokenize tweets tokens = [x.split() for x in filtered_train_tweets]\n",
        "    \n",
        "    embedded_tweets = [] #array for embeded tweets->B\n",
        "    for tweet in tweets: #for each tweet in tokenized_set\n",
        "      embeded_words = [] #array for embeded words = A\n",
        "      for word in tweet:#for each word in token\n",
        "        if word in dic: #if token is in vocabulary -> return index\n",
        "          embeded_words.append(embeddings_npa[dic[word]]) # A.insert(embeding[index])\n",
        "        else:\n",
        "          embeded_words.append(embeddings_npa[dic['<unknown>']]) #A.insert(embedding[0]->unknown)\n",
        "      embedded_tweets.append(embeded_words)#B.insert[A]\n",
        "      \n",
        "    #shrink array \n",
        "    mean_tweets = [] \n",
        "    for tweet in embedded_tweets: #for tweet in B \n",
        "      mean_words = np.mean(tweet,axis=0) #mean(tweet)->insert in C   array.mean(axis=0)\n",
        "      mean_tweets.append(mean_words)\n",
        "\n",
        "    #Normalize values\n",
        "    scaler = MinMaxScaler()\n",
        "    train_dataset = scaler.fit_transform(np.array(mean_tweets))\n",
        "    # validation_set = scaler.transform(validation_set.toarray())\n",
        "    # Apply standartization\n",
        "    scaler = StandardScaler()\n",
        "    train_dataset = scaler.fit_transform(np.array(mean_tweets))\n",
        "\n",
        "    self.x = torch.from_numpy(train_dataset)\n",
        "    self.y = torch.tensor(train_set['label'], dtype=torch.long)\n",
        "\n",
        "    self.n_samples = self.x.shape[0]\n",
        "\n",
        "  def __getitem__(self,index):\n",
        "    return self.x[index],self.y[index]\n",
        "  def __len__(self):\n",
        "    return self.n_samples"
      ]
    },
    {
      "cell_type": "markdown",
      "metadata": {
        "id": "O7_TFJZYBd6H"
      },
      "source": [
        "# **NEWRAL** **NETWORK**\n"
      ]
    },
    {
      "cell_type": "markdown",
      "metadata": {
        "id": "RKk8fqGdBx9S"
      },
      "source": [
        "Defining model class"
      ]
    },
    {
      "cell_type": "code",
      "execution_count": 842,
      "metadata": {
        "id": "yVGZIkLFBuhL"
      },
      "outputs": [],
      "source": [
        "class my_Network(nn.Module):\n",
        "    def __init__(self, D_in, H1, H2, H3, D_out):\n",
        "        super(my_Network, self).__init__()\n",
        "        \n",
        "        self.linear1 = nn.Linear(D_in, H1)\n",
        "        self.dropout1 = nn.Dropout(p=0.2)\n",
        "        self.relu1 = nn.ReLU()\n",
        "        self.linear2 = nn.Linear(H1, H2)\n",
        "        self.dropout2 = nn.Dropout(p=0.2)\n",
        "        self.linear3 = nn.Linear(H2, H3)\n",
        "        self.relu2 = nn.ReLU()\n",
        "        self.linear4 = nn.Linear(H3, D_out)\n",
        "        \n",
        "    def forward(self, x):\n",
        "        out = self.linear1(x)\n",
        "        out = self.dropout1(out)\n",
        "        out=self.relu1(out)\n",
        "        out = self.linear2(out)\n",
        "        out = self.dropout2(out)\n",
        "        out = self.linear3(out)\n",
        "        out=self.relu2(out)\n",
        "        out = self.linear4(out)\n",
        "        return out"
      ]
    },
    {
      "cell_type": "markdown",
      "metadata": {
        "id": "PCal2AT3CIe8"
      },
      "source": [
        "## Train and Evaluate Network"
      ]
    },
    {
      "cell_type": "code",
      "execution_count": 850,
      "metadata": {
        "id": "QNoqkhjzCLxR"
      },
      "outputs": [],
      "source": [
        "from sklearn.preprocessing import label_binarize\n",
        "from sklearn.metrics import precision_score\n",
        "from sklearn.metrics import recall_score\n",
        "from sklearn.metrics import f1_score\n",
        "import itertools\n",
        "from sklearn.preprocessing import MinMaxScaler\n",
        "from sklearn.preprocessing import StandardScaler\n",
        "\n",
        "#utility function to flaten a list and convert to a numpy array\n",
        "def convert(array):\n",
        "  pred_list=[]\n",
        "  for i in array:\n",
        "    pred_list.append(i.tolist())\n",
        "  merged_pred = list(itertools.chain(*pred_list))\n",
        "  predicted_labels = numpy.array(merged_pred)\n",
        "  return predicted_labels"
      ]
    },
    {
      "cell_type": "markdown",
      "metadata": {
        "id": "bcKtFsRH87Up"
      },
      "source": [
        "Apply prepprocessing to train and validation data.\n",
        "\n"
      ]
    },
    {
      "cell_type": "code",
      "execution_count": 851,
      "metadata": {
        "id": "Dvp7Tj0zoibU"
      },
      "outputs": [],
      "source": [
        "torch.manual_seed(10)\n",
        "#filter tweets\n",
        "train_set['tweet'] = train_set['tweet'].apply(lambda tw: clean_tweet(tw)) #clean tweets\n",
        "validation_set['tweet'] = validation_set['tweet'].apply(lambda tw: clean_tweet(tw)) #clean tweets\n",
        "#delete emtpy tweets\n",
        "train_set = train_set.drop(train_set[train_set['tweet'].map(lambda x: str(x)=='' )].index)\n",
        "validation_set = validation_set.drop(validation_set[validation_set['tweet'].map(lambda x: str(x)=='' )].index)\n"
      ]
    },
    {
      "cell_type": "markdown",
      "metadata": {
        "id": "zl-fqiNZiZ2U"
      },
      "source": [
        "\n",
        "Initialize the dataloaders."
      ]
    },
    {
      "cell_type": "code",
      "execution_count": 852,
      "metadata": {
        "id": "B1DY4q99gQ3E"
      },
      "outputs": [],
      "source": [
        "#Initialize dataloader (Glove)\n",
        "train_dataset = tweetsDataset(train_set,train_set['tweet'],vocabulary_npa,embeddings_npa)\n",
        "train_dataloader = torch.utils.data.DataLoader(train_dataset, batch_size=2048, shuffle=True)\n",
        "\n",
        "validation_dataset = tweetsDataset(validation_set,validation_set['tweet'],vocabulary_npa,embeddings_npa)\n",
        "validation_dataloader = torch.utils.data.DataLoader(validation_dataset, batch_size=2048, shuffle=True)"
      ]
    },
    {
      "cell_type": "markdown",
      "metadata": {
        "id": "55HJUNeOB1aw"
      },
      "source": [
        "Set hyperparameters, layes sizes and load model"
      ]
    },
    {
      "cell_type": "code",
      "execution_count": 853,
      "metadata": {
        "id": "WV2zbSQiB4jt",
        "colab": {
          "base_uri": "https://localhost:8080/"
        },
        "outputId": "249ef921-be5d-445a-d2cb-1616567a2bea"
      },
      "outputs": [
        {
          "output_type": "stream",
          "name": "stdout",
          "text": [
            "50\n"
          ]
        }
      ],
      "source": [
        "device = torch.device('cuda' if torch.cuda.is_available() else 'cpu')\n",
        "#Define layer sizes\n",
        "D_in = train_dataset[0][0].shape[0]\n",
        "print(D_in)\n",
        "H1 = 246\n",
        "H2 = 128\n",
        "H3 = 32\n",
        "D_out = 3\n",
        "\n",
        "#Define Hyperparameters\n",
        "learning_rate = 0.0001\n",
        "\n",
        "#Initialize model, loss, optimizer\n",
        "model = my_Network(D_in, H1, H2, H3, D_out).to(device)\n",
        "# loss_func = nn.MSELoss(reduction='sum')\n",
        "loss_func = nn.CrossEntropyLoss()\n",
        "# optimizer = torch.optim.SGD(model.parameters(), lr=learning_rate)\n",
        "optimizer = torch.optim.Adam(model.parameters(), lr=learning_rate)"
      ]
    },
    {
      "cell_type": "markdown",
      "metadata": {
        "id": "ZA7i8KZpCQ_G"
      },
      "source": [
        "**Train and evaluate the network**(GloVe)\n",
        "\n",
        "For each epoch f1 score and loss function is calculated adn printed. In this step loss scores for ploting curves are also accumulated."
      ]
    },
    {
      "cell_type": "code",
      "execution_count": 856,
      "metadata": {
        "id": "yXz1bRbTCUsX",
        "colab": {
          "base_uri": "https://localhost:8080/"
        },
        "outputId": "a99c2112-d1b2-4a19-c961-9747ceb0eedc"
      },
      "outputs": [
        {
          "output_type": "stream",
          "name": "stdout",
          "text": [
            "F1 SCORE(train):  0.5279431803376722   F1 SCORE(validation):  0.5231889346332125\n",
            "LOSS(train):  0.9071356058120728  LOSS(validation):  0.9084628820419312\n",
            "\n",
            "\n",
            "F1 SCORE(train):  0.5309549454980492   F1 SCORE(validation):  0.5186396619864969\n",
            "LOSS(train):  0.8990936502814293  LOSS(validation):  0.8942467570304871\n",
            "\n",
            "\n",
            "F1 SCORE(train):  0.5362213450844362   F1 SCORE(validation):  0.5266195702680447\n",
            "LOSS(train):  0.8932365253567696  LOSS(validation):  0.9002835154533386\n",
            "\n",
            "\n",
            "F1 SCORE(train):  0.5352638921452804   F1 SCORE(validation):  0.5209811980649682\n",
            "LOSS(train):  0.88649682700634  LOSS(validation):  0.8838687539100647\n",
            "\n",
            "\n",
            "F1 SCORE(train):  0.5400073916919549   F1 SCORE(validation):  0.5315372203536579\n",
            "LOSS(train):  0.8819874674081802  LOSS(validation):  0.9052183628082275\n",
            "\n",
            "\n",
            "F1 SCORE(train):  0.5425488630433316   F1 SCORE(validation):  0.527891480082435\n",
            "LOSS(train):  0.8750278353691101  LOSS(validation):  0.863649308681488\n",
            "\n",
            "\n",
            "F1 SCORE(train):  0.5435251965963517   F1 SCORE(validation):  0.5278568020744615\n",
            "LOSS(train):  0.8710730373859406  LOSS(validation):  0.8823785781860352\n",
            "\n",
            "\n",
            "F1 SCORE(train):  0.5478416612043449   F1 SCORE(validation):  0.5346671158389545\n",
            "LOSS(train):  0.8656551837921143  LOSS(validation):  0.8744679093360901\n",
            "\n",
            "\n",
            "F1 SCORE(train):  0.54690378659627   F1 SCORE(validation):  0.5330705042381081\n",
            "LOSS(train):  0.8610232323408127  LOSS(validation):  0.8623231649398804\n",
            "\n",
            "\n",
            "F1 SCORE(train):  0.5532269054470413   F1 SCORE(validation):  0.5400027861598689\n",
            "LOSS(train):  0.856858067214489  LOSS(validation):  0.8759776949882507\n",
            "\n",
            "\n",
            "F1 SCORE(train):  0.5525047982665179   F1 SCORE(validation):  0.5422363542752471\n",
            "LOSS(train):  0.8530742898583412  LOSS(validation):  0.8650181889533997\n",
            "\n",
            "\n",
            "F1 SCORE(train):  0.5572398174406565   F1 SCORE(validation):  0.5435867331103437\n",
            "LOSS(train):  0.8491209894418716  LOSS(validation):  0.8461925983428955\n",
            "\n",
            "\n",
            "F1 SCORE(train):  0.5607590143513007   F1 SCORE(validation):  0.5496519581771607\n",
            "LOSS(train):  0.8450853526592255  LOSS(validation):  0.8529482483863831\n",
            "\n",
            "\n",
            "F1 SCORE(train):  0.559018057521642   F1 SCORE(validation):  0.5556700593870694\n",
            "LOSS(train):  0.8410724774003029  LOSS(validation):  0.8340786695480347\n",
            "\n",
            "\n",
            "F1 SCORE(train):  0.5613492358682762   F1 SCORE(validation):  0.5571016340186892\n",
            "LOSS(train):  0.8389580771327019  LOSS(validation):  0.8291134834289551\n",
            "\n",
            "\n",
            "F1 SCORE(train):  0.5648711788939863   F1 SCORE(validation):  0.5642323834085802\n",
            "LOSS(train):  0.8355805650353432  LOSS(validation):  0.8333556056022644\n",
            "\n",
            "\n",
            "F1 SCORE(train):  0.5657752695726025   F1 SCORE(validation):  0.5653732202397246\n",
            "LOSS(train):  0.8323364406824112  LOSS(validation):  0.8279114365577698\n",
            "\n",
            "\n",
            "F1 SCORE(train):  0.5683256424032855   F1 SCORE(validation):  0.54946122234677\n",
            "LOSS(train):  0.8302321061491966  LOSS(validation):  0.8391785025596619\n",
            "\n",
            "\n",
            "F1 SCORE(train):  0.5705645011881543   F1 SCORE(validation):  0.5527914210123827\n",
            "LOSS(train):  0.8241572380065918  LOSS(validation):  0.8340445160865784\n",
            "\n",
            "\n",
            "F1 SCORE(train):  0.5720882317243515   F1 SCORE(validation):  0.5651007977064866\n",
            "LOSS(train):  0.8231895342469215  LOSS(validation):  0.8156827092170715\n",
            "\n",
            "\n"
          ]
        }
      ],
      "source": [
        "train_loss_history = []\n",
        "val_loss_history = []\n",
        "# device = torch.device('cuda' if torch.cuda.is_available() else 'cpu')\n",
        "for epoch in range(20):\n",
        "  model.train()\n",
        "\n",
        "  train_batch_losses = []\n",
        "  val_batch_losses = []\n",
        "\n",
        "  #train model\n",
        "  pred_arr=[]\n",
        "  true_arr=[]\n",
        "  for x_batch, y_batch in train_dataloader:\n",
        "    x_batch = x_batch.to(device)\n",
        "    y_batch = y_batch.to(device)\n",
        "\n",
        "    y_pred = model(x_batch.float())\n",
        "    #store label baches and their prediction to use for f1 calculation\n",
        "    _, predicted = torch.max(y_pred, 1) #keep the label with the gratest propability\n",
        "    true_arr.append(y_batch)\n",
        "    pred_arr.append(predicted)\n",
        "\n",
        "    loss = loss_func(y_pred, y_batch)#calculate loss\n",
        "    train_batch_losses.append(loss.item())\n",
        "\n",
        "    \n",
        "    optimizer.zero_grad()#Delete previously stored gradients\n",
        "    loss.backward()#Perform backpropagation starting from the loss calculated in this epoch\n",
        "    optimizer.step()#Update model's weights based on the gradients calculated during backprop\n",
        "  \n",
        "  #modify baches and prediction shape to calculate f1 score\n",
        "  train_true = convert(true_arr)\n",
        "  train_pred = convert(pred_arr)\n",
        "\n",
        "  #########\n",
        "  #validate\n",
        "  with torch.no_grad():\n",
        "    pred_arr=[]\n",
        "    batch_arr=[]\n",
        "    for x_batch, y_batch in validation_dataloader:\n",
        "      x_batch = x_batch.to(device)\n",
        "      y_batch = y_batch.to(device)\n",
        "      y_pred = model(x_batch.float())\n",
        "      _, predicted = torch.max(y_pred, 1)#keep the label with the greatest propability\n",
        "      pred_label_array = predicted.detach().numpy() #tranform form tensor to numpy for f1\n",
        "\n",
        "      #loss calculation per batch\n",
        "      # t = flatten(y_batch) #cors entropy with indices as paramters\n",
        "      val_loss = loss_func(y_pred, y_batch)\n",
        "      val_batch_losses.append(loss.item())\n",
        "      #store baches and their prediction to use for f1 calculation\n",
        "      batch_arr.append(y_batch)\n",
        "      pred_arr.append(predicted)\n",
        "  \n",
        "  #modify baches and prediction shape to calculate f1 score\n",
        "  val_true = convert(batch_arr)\n",
        "  val_pred = convert(pred_arr)\n",
        "  f1_train = f1_score(train_true, train_pred, average='weighted')\n",
        "  f1_val = f1_score(val_true, val_pred, average='weighted')\n",
        "\n",
        "  #calculate loss\n",
        "  train_loss = sum(train_batch_losses)/len(train_dataloader)\n",
        "  val_loss = sum(val_batch_losses)/len(validation_dataloader)\n",
        "  print(\"F1 SCORE(train): \", f1_train ,\"  F1 SCORE(validation): \", f1_val)\n",
        "  print(\"LOSS(train): \", train_loss, \" LOSS(validation): \", val_loss )\n",
        "  print(\"\\n\")\n",
        "\n",
        "  #store loss or each epoch\n",
        "  train_loss_history.append(sum(train_batch_losses)/len(train_dataloader))\n",
        "  val_loss_history.append(sum(val_batch_losses)/len(validation_dataloader))"
      ]
    },
    {
      "cell_type": "markdown",
      "metadata": {
        "id": "tDTJ0TsUDsjT"
      },
      "source": [
        "##LEARNING CURVES"
      ]
    },
    {
      "cell_type": "code",
      "execution_count": 857,
      "metadata": {
        "id": "ySG8qMhPDvRM",
        "colab": {
          "base_uri": "https://localhost:8080/",
          "height": 295
        },
        "outputId": "de72fe03-8194-4f4b-c056-467354389d30"
      },
      "outputs": [
        {
          "output_type": "display_data",
          "data": {
            "image/png": "[encoded data removed]",
            "text/plain": [
              "<Figure size 432x288 with 1 Axes>"
            ]
          },
          "metadata": {
            "needs_background": "light"
          }
        }
      ],
      "source": [
        "import matplotlib.pyplot as plt\n",
        "# loss_train = history.history['train_loss']\n",
        "# loss_val = history.history['val_loss']\n",
        "epochs = range(1,21)\n",
        "# loss in train_loss_history\n",
        "plt.plot(epochs, train_loss_history, 'g', label='Training loss')\n",
        "plt.plot(epochs, val_loss_history, 'b', label='validation loss')\n",
        "plt.title('Training and Validation loss')\n",
        "plt.xlabel('Epochs')\n",
        "plt.ylabel('Loss')\n",
        "plt.legend()\n",
        "plt.show()"
      ]
    },
    {
      "cell_type": "markdown",
      "metadata": {
        "id": "nQEekuSo_-TX"
      },
      "source": [
        "#**Model 2**"
      ]
    },
    {
      "cell_type": "markdown",
      "metadata": {
        "id": "xywnQpn0_Kvt"
      },
      "source": [
        "#BOW VECTORIZATION\n"
      ]
    },
    {
      "cell_type": "code",
      "execution_count": 946,
      "metadata": {
        "id": "cWi2e80yNZ0H",
        "colab": {
          "base_uri": "https://localhost:8080/"
        },
        "outputId": "0cead99e-dc50-44f8-a281-ae3abefa9945"
      },
      "outputs": [
        {
          "output_type": "execute_result",
          "data": {
            "text/plain": [
              "<torch._C.Generator at 0x7fbc7955c470>"
            ]
          },
          "metadata": {},
          "execution_count": 946
        }
      ],
      "source": [
        "import torch\n",
        "import torch.nn as nn\n",
        "import matplotlib.pyplot as plt\n",
        "import pandas as pd\n",
        "torch.manual_seed(10)"
      ]
    },
    {
      "cell_type": "code",
      "execution_count": 947,
      "metadata": {
        "id": "ahwazLBg_T60"
      },
      "outputs": [],
      "source": [
        "from sklearn import *\n",
        "from sklearn.feature_extraction.text import CountVectorizer\n",
        "from sklearn.preprocessing import MinMaxScaler\n",
        "# from sklearn.preprocessing import MaxAbsScaler\n",
        "from sklearn.preprocessing import StandardScaler\n",
        "\n",
        "bow_vectorizer = CountVectorizer(ngram_range=(1,2), min_df=0.007)"
      ]
    },
    {
      "cell_type": "code",
      "execution_count": 948,
      "metadata": {
        "id": "viAr6WSq_LH5"
      },
      "outputs": [],
      "source": [
        "class tweetsDataset(Dataset):\n",
        "  def __init__(self,data,bow_data):\n",
        "\n",
        "    #Separate data in features and targets tensors\n",
        "    y_df = pd.DataFrame(data, columns=[data.columns[-1]])\n",
        "    \n",
        "    #Save in tensors\n",
        "    self.x = torch.tensor(bow_data, dtype=torch.float)\n",
        "    self.y = torch.tensor(data['label'], dtype=torch.long)\n",
        "\n",
        "    self.n_samples = self.x.shape[0]\n",
        "\n",
        "  def __getitem__(self,index):\n",
        "    return self.x[index],self.y[index]\n",
        "  def __len__(self):\n",
        "    return self.n_samples"
      ]
    },
    {
      "cell_type": "markdown",
      "metadata": {
        "id": "GFjjYqtCAszz"
      },
      "source": [
        "Define network class"
      ]
    },
    {
      "cell_type": "code",
      "execution_count": 949,
      "metadata": {
        "id": "RwvgPi2OAtMr"
      },
      "outputs": [],
      "source": [
        "class my_Network(nn.Module):\n",
        "    def __init__(self, D_in, H1, H2, H3, D_out):\n",
        "        super(my_Network, self).__init__()\n",
        "        \n",
        "        self.linear1 = nn.Linear(D_in, H1)\n",
        "        self.dropout1 = nn.Dropout(p=0.2)\n",
        "        self.relu1 = nn.ReLU()\n",
        "        self.linear2 = nn.Linear(H1, H2)\n",
        "        self.dropout2 = nn.Dropout(p=0.2)\n",
        "        self.linear3 = nn.Linear(H2, H3)\n",
        "        # self.dropout3 = nn.Dropout(p=0.2)\n",
        "        self.relu2 = nn.ReLU()\n",
        "        self.linear4 = nn.Linear(H3, D_out)\n",
        "        # self.relu3 = nn.ReLU()\n",
        "        # self.soft = nn.Softmax()\n",
        "        \n",
        "    def forward(self, x):\n",
        "        out = self.linear1(x)\n",
        "        out = self.dropout1(out)\n",
        "        out=self.relu1(out)\n",
        "        out = self.linear2(out)\n",
        "        out = self.dropout2(out)\n",
        "        out = self.linear3(out)\n",
        "        # out = self.dropout2(out)\n",
        "        out=self.relu2(out)\n",
        "        out = self.linear4(out)\n",
        "        # out=self.relu3(out)\n",
        "        # out=self.soft(out)\n",
        "        # out = self.linear3(out)\n",
        "        # out = self.linear4(out)\n",
        "        return out"
      ]
    },
    {
      "cell_type": "markdown",
      "metadata": {
        "id": "OTjjEtndAaKq"
      },
      "source": [
        "Apply prepprocessing to train and validation data.\n"
      ]
    },
    {
      "cell_type": "code",
      "execution_count": 950,
      "metadata": {
        "id": "83lKD4mbAQNl"
      },
      "outputs": [],
      "source": [
        "#filter tweets\n",
        "train_set['tweet'] = train_set['tweet'].apply(lambda tw: clean_tweet(tw)) #clean tweets\n",
        "validation_set['tweet'] = validation_set['tweet'].apply(lambda tw: clean_tweet(tw)) #clean tweets\n",
        "#delete emtpy tweets\n",
        "train_set = train_set.drop(train_set[train_set['tweet'].map(lambda x: str(x)=='' )].index)\n",
        "validation_set = validation_set.drop(validation_set[validation_set['tweet'].map(lambda x: str(x)=='' )].index)\n",
        "#vectorize data\n",
        "bow_trainset = bow_vectorizer.fit_transform(train_set['tweet']) #apply BOW on training tweets\n",
        "bow_validationset = bow_vectorizer.transform(validation_set['tweet']) #apply BOW on validation tweets\n",
        "#Normalize values\n",
        "scaler = MinMaxScaler()\n",
        "bow_trainset = scaler.fit_transform(bow_trainset.toarray())\n",
        "bow_validationset = scaler.transform(bow_validationset.toarray())\n",
        "# Apply standartization\n",
        "scaler = StandardScaler()\n",
        "bow_trainset = scaler.fit_transform(bow_trainset)\n",
        "bow_validationset = scaler.transform(bow_validationset)"
      ]
    },
    {
      "cell_type": "markdown",
      "metadata": {
        "id": "JrKVPo03Aeff"
      },
      "source": [
        "Initialize dataloaders"
      ]
    },
    {
      "cell_type": "code",
      "execution_count": 951,
      "metadata": {
        "id": "vRnUrA5b_p9O"
      },
      "outputs": [],
      "source": [
        "#Initialize dataloader (BOW)\n",
        "train_dataset = tweetsDataset(train_set,bow_trainset)\n",
        "train_dataloader = torch.utils.data.DataLoader(train_dataset, batch_size=2048, shuffle=True)\n",
        "\n",
        "validation_dataset = tweetsDataset(validation_set,bow_validationset)\n",
        "validation_dataloader = torch.utils.data.DataLoader(validation_dataset, batch_size=2048, shuffle=True)"
      ]
    },
    {
      "cell_type": "markdown",
      "metadata": {
        "id": "PmtYfuEDBBAT"
      },
      "source": [
        "Set hyperparameters, layes sizes and load model"
      ]
    },
    {
      "cell_type": "code",
      "execution_count": 952,
      "metadata": {
        "id": "KFUrsmINBAbC"
      },
      "outputs": [],
      "source": [
        "device = torch.device('cuda' if torch.cuda.is_available() else 'cpu')\n",
        "#Define layer sizes\n",
        "D_in = train_dataset[0][0].shape[0]\n",
        "H1 = 256\n",
        "H2 = 128\n",
        "H3 = 32\n",
        "D_out = 3\n",
        "\n",
        "#Define Hyperparameters\n",
        "learning_rate = 0.001 \n",
        "\n",
        "#Initialize model, loss, optimizer\n",
        "model = my_Network(D_in, H1, H2, H3, D_out).to(device)\n",
        "# model.to(device)\n",
        "loss_func = nn.CrossEntropyLoss()\n",
        "# optimizer = torch.optim.SGD(model.parameters(), lr=learning_rate)\n",
        "optimizer = torch.optim.Adam(model.parameters(), lr=learning_rate)"
      ]
    },
    {
      "cell_type": "markdown",
      "metadata": {
        "id": "N7vVevcX_pmh"
      },
      "source": [
        "**Train and evaluate the network** (BOW)\n",
        "\n",
        "For each epoch f1 score and loss function is calculated and printed. In this step loss scores for ploting curves are also accumulated."
      ]
    },
    {
      "cell_type": "code",
      "source": [
        "def flatten(t):\n",
        "  flat_list = []\n",
        "  for sublist in t:\n",
        "    for item in sublist:\n",
        "        flat_list.append(item)\n",
        "  return flat_list\n",
        "\n",
        "from itertools import cycle\n",
        "from sklearn import svm, datasets\n",
        "from sklearn.metrics import roc_curve, auc\n",
        "from sklearn.model_selection import train_test_split\n",
        "from sklearn.preprocessing import label_binarize\n",
        "from sklearn.multiclass import OneVsRestClassifier\n",
        "from scipy import interp\n",
        "from sklearn.metrics import roc_auc_score"
      ],
      "metadata": {
        "id": "71SrMlXUbnvG"
      },
      "execution_count": 953,
      "outputs": []
    },
    {
      "cell_type": "code",
      "execution_count": 954,
      "metadata": {
        "colab": {
          "base_uri": "https://localhost:8080/"
        },
        "id": "lVx0xiEQ_x-f",
        "outputId": "2d1be748-b4eb-4360-c61d-1f28bf100c0d"
      },
      "outputs": [
        {
          "output_type": "stream",
          "name": "stderr",
          "text": [
            "/usr/local/lib/python3.7/dist-packages/sklearn/metrics/_classification.py:1308: UndefinedMetricWarning: Precision is ill-defined and being set to 0.0 in labels with no predicted samples. Use `zero_division` parameter to control this behavior.\n",
            "  _warn_prf(average, modifier, msg_start, len(result))\n"
          ]
        },
        {
          "output_type": "stream",
          "name": "stdout",
          "text": [
            "PRESISION(train):  0.5204192266719253   PRESISION(validation):  0.5486021961923326\n",
            "RECALL(train):  0.4025460930640913   RECALL(validation):  0.5559947299077734\n",
            "F1 SCORE(train):  0.4279594046706728   F1 SCORE(validation):  0.5080813701488266\n",
            "LOSS(train):  1.0594656392931938  LOSS(validation):  0.980828583240509\n",
            "\n",
            "\n"
          ]
        },
        {
          "output_type": "stream",
          "name": "stderr",
          "text": [
            "/usr/local/lib/python3.7/dist-packages/sklearn/metrics/_classification.py:1308: UndefinedMetricWarning: Precision is ill-defined and being set to 0.0 in labels with no predicted samples. Use `zero_division` parameter to control this behavior.\n",
            "  _warn_prf(average, modifier, msg_start, len(result))\n",
            "/usr/local/lib/python3.7/dist-packages/sklearn/metrics/_classification.py:1308: UndefinedMetricWarning: Precision is ill-defined and being set to 0.0 in labels with no predicted samples. Use `zero_division` parameter to control this behavior.\n",
            "  _warn_prf(average, modifier, msg_start, len(result))\n"
          ]
        },
        {
          "output_type": "stream",
          "name": "stdout",
          "text": [
            "PRESISION(train):  0.5455587107510983   PRESISION(validation):  0.5574945687519766\n",
            "RECALL(train):  0.6197792549855763   RECALL(validation):  0.6420729029424681\n",
            "F1 SCORE(train):  0.5783890299835981   F1 SCORE(validation):  0.5961154255362294\n",
            "LOSS(train):  0.908647894859314  LOSS(validation):  0.8773536086082458\n",
            "\n",
            "\n",
            "PRESISION(train):  0.6999183357086486   PRESISION(validation):  0.6567801469297733\n",
            "RECALL(train):  0.6565909946067979   RECALL(validation):  0.6565656565656566\n",
            "F1 SCORE(train):  0.6098252436733675   F1 SCORE(validation):  0.6116462483388609\n",
            "LOSS(train):  0.7917922809720039  LOSS(validation):  0.7792151570320129\n",
            "\n",
            "\n",
            "PRESISION(train):  0.6931777373404708   PRESISION(validation):  0.6641063379215847\n",
            "RECALL(train):  0.6788536310046407   RECALL(validation):  0.6723759332454985\n",
            "F1 SCORE(train):  0.6373367447570519   F1 SCORE(validation):  0.6345648640563714\n",
            "LOSS(train):  0.7368858158588409  LOSS(validation):  0.7187426686286926\n",
            "\n",
            "\n",
            "PRESISION(train):  0.695272551894863   PRESISION(validation):  0.6577929247414072\n",
            "RECALL(train):  0.6941552740499185   RECALL(validation):  0.6688625384277558\n",
            "F1 SCORE(train):  0.658833421913649   F1 SCORE(validation):  0.6357409289574434\n",
            "LOSS(train):  0.7048703879117966  LOSS(validation):  0.7068751454353333\n",
            "\n",
            "\n",
            "PRESISION(train):  0.7132720366201675   PRESISION(validation):  0.6614442273015788\n",
            "RECALL(train):  0.7109619967389941   RECALL(validation):  0.6714975845410628\n",
            "F1 SCORE(train):  0.6821335459900385   F1 SCORE(validation):  0.6476819922507265\n",
            "LOSS(train):  0.6764471605420113  LOSS(validation):  0.6700757145881653\n",
            "\n",
            "\n",
            "PRESISION(train):  0.7168660022742273   PRESISION(validation):  0.6660542477709515\n",
            "RECALL(train):  0.7209958610309796   RECALL(validation):  0.6785243741765481\n",
            "F1 SCORE(train):  0.7008632682215683   F1 SCORE(validation):  0.6651214227883829\n",
            "LOSS(train):  0.6508654206991196  LOSS(validation):  0.6598981618881226\n",
            "\n",
            "\n",
            "PRESISION(train):  0.7262078292282259   PRESISION(validation):  0.6711382731625853\n",
            "RECALL(train):  0.7340398846105607   RECALL(validation):  0.6807202459376372\n",
            "F1 SCORE(train):  0.7225682885436306   F1 SCORE(validation):  0.6708288024030152\n",
            "LOSS(train):  0.6243100389838219  LOSS(validation):  0.6082366108894348\n",
            "\n",
            "\n",
            "PRESISION(train):  0.740836603919968   PRESISION(validation):  0.665965905738309\n",
            "RECALL(train):  0.7478991596638656   RECALL(validation):  0.6754501537110232\n",
            "F1 SCORE(train):  0.7381386640249652   F1 SCORE(validation):  0.6665063203559797\n",
            "LOSS(train):  0.5961646735668182  LOSS(validation):  0.5973097681999207\n",
            "\n",
            "\n",
            "PRESISION(train):  0.7554414120855213   PRESISION(validation):  0.6687198316516844\n",
            "RECALL(train):  0.7616330114135206   RECALL(validation):  0.6767676767676768\n",
            "F1 SCORE(train):  0.7539666101383743   F1 SCORE(validation):  0.6700306154592404\n",
            "LOSS(train):  0.5709863379597664  LOSS(validation):  0.5684792399406433\n",
            "\n",
            "\n",
            "overall train scpre: 0.6510014221916915\n",
            "overall validation score:  0.6306317990295077\n"
          ]
        }
      ],
      "source": [
        "train_loss_history = []\n",
        "val_loss_history = []\n",
        "roc_history = []\n",
        "f1_total_train = 0\n",
        "f1_total_val = 0\n",
        "\n",
        "# device = torch.device('cuda' if torch.cuda.is_available() else 'cpu')\n",
        "for epoch in range(10):\n",
        "  model.train()\n",
        "\n",
        "  train_batch_losses = []\n",
        "  val_batch_losses = []\n",
        "\n",
        "  #train model\n",
        "  pred_arr=[]\n",
        "  true_arr=[]\n",
        "  for x_batch, y_batch in train_dataloader:\n",
        "\n",
        "    x_batch = x_batch.to(device)\n",
        "    y_batch = y_batch.to(device)\n",
        "\n",
        "    y_pred = model(x_batch.float())\n",
        "    #store label baches and their prediction to use for f1 calculation\n",
        "    _, predicted = torch.max(y_pred, 1) #keep the label with the gratest propability\n",
        "    true_arr.append(y_batch)\n",
        "    pred_arr.append(predicted)\n",
        "\n",
        "    loss = loss_func(y_pred, y_batch)#calculate loss\n",
        "    train_batch_losses.append(loss.item())\n",
        "    \n",
        "    optimizer.zero_grad()#Delete previously stored gradients\n",
        "    loss.backward() #Perform backpropagation starting from the loss calculated in this epoch\n",
        "    optimizer.step()#Update model's weights based on the gradients calculated during backprop\n",
        "\n",
        "  #modify baches and prediction shape to calculate f1 score\n",
        "  train_true = convert(true_arr)\n",
        "  train_pred = convert(pred_arr)\n",
        "\n",
        "  #########\n",
        "  #validate\n",
        "  with torch.no_grad():\n",
        "    pred_arr=[]\n",
        "    batch_arr=[]\n",
        "    # bin_pred = []\n",
        "    # bin_true = []\n",
        "    for x_batch, y_batch in validation_dataloader:\n",
        "      x_batch = x_batch.to(device)\n",
        "      y_batch = y_batch.to(device)\n",
        "      y_pred = model(x_batch.float())\n",
        "\n",
        "      _, predicted = torch.max(y_pred, 1)#keep the label with the greatest propability\n",
        "      pred_label_array = predicted.detach().numpy() #tranform form tensor to numpy for f1\n",
        "\n",
        "      #loss calculation per batch\n",
        "      val_loss = loss_func(y_pred, y_batch)\n",
        "      val_batch_losses.append(loss.item())\n",
        "      \n",
        "      #store baches and their prediction to use for f1 calculation\n",
        "      batch_arr.append(y_batch)\n",
        "      pred_arr.append(predicted)\n",
        "\n",
        "  #modify baches and prediction shape to calculate f1 score\n",
        "  val_true = convert(batch_arr)\n",
        "  val_pred = convert(pred_arr)\n",
        "  precision_train = precision_score(train_true, train_pred, average='weighted')\n",
        "  recall_train = recall_score(train_true, train_pred, average='weighted')\n",
        "  f1_train = f1_score(train_true, train_pred, average='weighted')\n",
        "  f1_total_train += f1_train \n",
        "\n",
        "  precision_val = precision_score(val_true, val_pred, average='weighted')\n",
        "  recall_val = recall_score(val_true, val_pred, average='weighted')\n",
        "  f1_val = f1_score(val_true, val_pred, average='weighted')\n",
        "  f1_total_val += f1_val \n",
        "\n",
        "  #calculate losses \n",
        "  train_loss = sum(train_batch_losses)/len(train_dataloader)\n",
        "  val_loss = sum(val_batch_losses)/len(validation_dataloader)\n",
        "  print(\"PRESISION(train): \", precision_train ,\"  PRESISION(validation): \", precision_val)\n",
        "  print(\"RECALL(train): \", recall_train ,\"  RECALL(validation): \", recall_val)\n",
        "  print(\"F1 SCORE(train): \", f1_train ,\"  F1 SCORE(validation): \", f1_val)\n",
        "  print(\"LOSS(train): \", train_loss, \" LOSS(validation): \", val_loss )\n",
        "  print(\"\\n\")\n",
        "\n",
        "\n",
        "  #store loss or each epoch (used in learning curves )\n",
        "  train_loss_history.append(sum(train_batch_losses)/len(train_dataloader))\n",
        "  val_loss_history.append(sum(val_batch_losses)/len(validation_dataloader))\n",
        "print(\"overall train scpre:\", f1_total_train/10)\n",
        "print(\"overall validation score: \", f1_total_val/10)\n",
        "\n"
      ]
    },
    {
      "cell_type": "markdown",
      "metadata": {
        "id": "TuH_d912BH2E"
      },
      "source": [
        "#LEARNING CURVES"
      ]
    },
    {
      "cell_type": "code",
      "execution_count": 955,
      "metadata": {
        "colab": {
          "base_uri": "https://localhost:8080/",
          "height": 295
        },
        "id": "ubOs3WU5AFnX",
        "outputId": "b85d4e77-873a-4e42-dfbc-7f8f1266e2e1"
      },
      "outputs": [
        {
          "output_type": "display_data",
          "data": {
            "image/png": "[encoded data removed]",
            "text/plain": [
              "<Figure size 432x288 with 1 Axes>"
            ]
          },
          "metadata": {
            "needs_background": "light"
          }
        }
      ],
      "source": [
        "import matplotlib.pyplot as plt\n",
        "# loss_train = history.history['train_loss']\n",
        "# loss_val = history.history['val_loss']\n",
        "epochs = range(1,11)\n",
        "# loss in train_loss_history\n",
        "plt.ylim([0, 2])\n",
        "plt.plot(epochs, train_loss_history, 'g', label='Training loss')\n",
        "plt.plot(epochs, val_loss_history, 'b', label='validation loss')\n",
        "plt.title('Training and Validation loss')\n",
        "plt.xlabel('Epochs')\n",
        "plt.ylabel('Loss')\n",
        "plt.legend()\n",
        "plt.show()"
      ]
    },
    {
      "cell_type": "markdown",
      "source": [
        "#ROC CURVES"
      ],
      "metadata": {
        "id": "019DEipRlhRt"
      }
    },
    {
      "cell_type": "code",
      "source": [
        "#calculate ROC\n",
        "pred_arr = []\n",
        "n_calsses=3\n",
        "for x_batch, y_batch in validation_dataloader:\n",
        "  x_batch = x_batch.to(device)\n",
        "  y_batch = y_batch.to(device)\n",
        "  y_pred = model(x_batch.float())\n",
        "\n",
        "  _, predicted = torch.max(y_pred, 1)#keep the label with the greatest propability\n",
        "    #store baches and their prediction to use for f1 calculation\n",
        "  pred_arr.append(predicted)\n",
        "total_pred = model(torch.from_numpy(bow_trainset).float())\n",
        "total_pred.shape\n",
        "y_true_binarized = label_binarize(validation_set['label'].tolist(), classes=[0,1,2])\n",
        "y_pred_binarized = label_binarize(flatten(pred_arr), classes=[0,1,2])\n",
        "\n",
        "# Compute ROC curve and ROC area for each class\n",
        "fpr = dict()\n",
        "tpr = dict()\n",
        "roc_auc = dict()\n",
        "for i in range(n_classes):\n",
        "    fpr[i], tpr[i], _ = roc_curve(y_true_binarized[:, i], y_pred_binarized[:, i])\n",
        "    roc_auc[i] = auc(fpr[i], tpr[i])\n",
        "\n",
        "# Compute micro-average ROC curve and ROC area\n",
        "fpr[\"micro\"], tpr[\"micro\"], _ = roc_curve(y_true_binarized.ravel(), y_pred_binarized.ravel())\n",
        "roc_auc[\"micro\"] = auc(fpr[\"micro\"], tpr[\"micro\"])\n",
        "\n",
        "\n",
        "# First aggregate all false positive rates\n",
        "all_fpr = np.unique(np.concatenate([fpr[i] for i in range(n_classes)]))\n",
        "\n",
        "# Then interpolate all ROC curves at this points\n",
        "mean_tpr = np.zeros_like(all_fpr)\n",
        "for i in range(n_classes):\n",
        "    mean_tpr += interp(all_fpr, fpr[i], tpr[i])\n",
        "\n",
        "# Finally average it and compute AUC\n",
        "mean_tpr /= n_classes\n",
        "\n",
        "fpr[\"macro\"] = all_fpr\n",
        "tpr[\"macro\"] = mean_tpr\n",
        "roc_auc[\"macro\"] = auc(fpr[\"macro\"], tpr[\"macro\"])\n",
        "\n",
        "# Plot all ROC curves\n",
        "plt.figure()\n",
        "plt.plot(\n",
        "    fpr[\"micro\"],\n",
        "    tpr[\"micro\"],\n",
        "    label=\"micro-average ROC curve (area = {0:0.2f})\".format(roc_auc[\"micro\"]),\n",
        "    color=\"deeppink\",\n",
        "    linestyle=\":\",\n",
        "    linewidth=4,\n",
        ")\n",
        "\n",
        "plt.plot(\n",
        "    fpr[\"macro\"],\n",
        "    tpr[\"macro\"],\n",
        "    label=\"macro-average ROC curve (area = {0:0.2f})\".format(roc_auc[\"macro\"]),\n",
        "    color=\"navy\",\n",
        "    linestyle=\":\",\n",
        "    linewidth=4,\n",
        ")\n",
        "\n",
        "colors = cycle([\"aqua\", \"darkorange\", \"cornflowerblue\"])\n",
        "for i, color in zip(range(n_classes), colors):\n",
        "    plt.plot(\n",
        "        fpr[i],\n",
        "        tpr[i],\n",
        "        color=color,\n",
        "        lw=lw,\n",
        "        label=\"ROC curve of class {0} (area = {1:0.2f})\".format(i, roc_auc[i]),\n",
        "    )\n",
        "\n",
        "plt.plot([0, 1], [0, 1], \"k--\", lw=lw)\n",
        "plt.xlim([0.0, 1.0])\n",
        "plt.ylim([0.0, 1.05])\n",
        "plt.xlabel(\"False Positive Rate\")\n",
        "plt.ylabel(\"True Positive Rate\")\n",
        "plt.title(\"Some extension of Receiver operating characteristic to multiclass\")\n",
        "plt.legend(loc=\"lower right\")\n",
        "plt.show()\n",
        "\n"
      ],
      "metadata": {
        "colab": {
          "base_uri": "https://localhost:8080/",
          "height": 332
        },
        "id": "qqdIWIoHlgz-",
        "outputId": "756f959a-1737-41f4-ee9c-e1aedb138994"
      },
      "execution_count": 960,
      "outputs": [
        {
          "output_type": "stream",
          "name": "stderr",
          "text": [
            "/usr/local/lib/python3.7/dist-packages/ipykernel_launcher.py:36: DeprecationWarning: scipy.interp is deprecated and will be removed in SciPy 2.0.0, use numpy.interp instead\n"
          ]
        },
        {
          "output_type": "display_data",
          "data": {
            "image/png": "[encoded data removed]",
            "text/plain": [
              "<Figure size 432x288 with 1 Axes>"
            ]
          },
          "metadata": {
            "needs_background": "light"
          }
        }
      ]
    }
  ],
  "metadata": {
    "colab": {
      "collapsed_sections": [],
      "name": "Untitled0.ipynb",
      "provenance": []
    },
    "kernelspec": {
      "display_name": "Python 3",
      "name": "python3"
    },
    "language_info": {
      "name": "python"
    }
  },
  "nbformat": 4,
  "nbformat_minor": 0
}